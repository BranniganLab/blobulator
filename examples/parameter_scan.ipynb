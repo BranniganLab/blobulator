{
 "cells": [
  {
   "cell_type": "code",
   "execution_count": null,
   "id": "746d2acc-16d8-48d9-b17f-de940cc2f804",
   "metadata": {},
   "outputs": [],
   "source": [
    "import blobulator\n",
    "import matplotlib.pyplot as plt\n",
    "import matplotlib.patches as mpatches\n",
    "import numpy as np\n",
    "from matplotlib.colors import ListedColormap\n",
    "colors = [\"orange\", \"green\", \"blue\"]\n",
    "newcmap = ListedColormap(colors)\n",
    "\n",
    "import pandas as pd\n",
    "import seaborn as sns"
   ]
  },
  {
   "cell_type": "code",
   "execution_count": null,
   "id": "eae63d6b-3ffc-4492-ba27-f7ea50e91ff5",
   "metadata": {},
   "outputs": [],
   "source": [
    "def PofX(x, vec):\n",
    "    return np.sum(vec==x)/len(vec)\n",
    "\n",
    "def entropy(series, species=[0.2, 0.4, 0.6]):\n",
    "    sum = 0\n",
    "    for x in blobVals:\n",
    "        Px = PofX(x, series)\n",
    "        if Px>0:\n",
    "            sum -= Px*np.log(Px)\n",
    "    return sum\n",
    "\n",
    "def doHgram(sequence, Lmin=1, hscale=\"kyte_doolittle\"):\n",
    "    hydropathygram = []\n",
    "    \n",
    "    Hvals = np.linspace(0,1, 100)\n",
    "    for H in Hvals:\n",
    "        blobDF = blobulator.compute(sequence, H, Lmin, hscale)\n",
    "        blobs = blobDF.domain_to_numbers.values\n",
    "        hydropathygram.append(blobs)\n",
    "\n",
    "    return hydropathygram, Hvals\n",
    "\n",
    "def getEntropies(gram, blobVals = [0.2, 0.4, 0.6]):\n",
    "    entropies = []\n",
    "    for blobulation in gram:\n",
    "        entropies.append(entropy(blobulation))\n",
    "        \n",
    "    return entropies\n",
    "\n",
    "def doLmingram(sequence, H=0.4, hscale=\"kyte_doolittle\"):\n",
    "    lmingram = []\n",
    "    \n",
    "    Lminvals = range(len(sequence))\n",
    "    for Lmin in Lminvals:\n",
    "        blobDF = blobulator.compute(sequence, H, Lmin, hscale)\n",
    "        blobs = blobDF.domain_to_numbers.values\n",
    "        lmingram.append(blobs)\n",
    "        if np.all(blobs<0.4):\n",
    "            break\n",
    "\n",
    "    return lmingram, Lminvals"
   ]
  },
  {
   "cell_type": "code",
   "execution_count": null,
   "id": "04aa22cd-5daf-4f4b-bb5c-b969031548b3",
   "metadata": {},
   "outputs": [],
   "source": [
    "# A very simple oligopeptide\n",
    "ELIC = \"APADNAADARPVDVSVSIFINKIYGVNTLEQTYKVDGYIVAQWTGKPRKTPGDKPLIVENTQIERWINNGLWVPALEFINVVGSPDTGNKRLMLFPDGRVIYNARFLGSFSNDMDFRLFPFDRQQFVLELEPFSYNNQQLRFSDIQVYTENIDNEEIDEWWIRGKASTHISDIRYDHLSSVQPNQNEFSRITVRIDAVRNPSYYLWSFILPLGLIIAASWSVFWLESFSERLQTSFTLMLTVVAYAFYTSNILPRLPYTTVIDQMIIAGYGSIFAAILLIIFAHHRQANGVEDDLLIQRCRLAFPLGFLAIGCVLVIRGITL\"\n",
    "asynuclein = \"MDVFMKGLSKAKEGVVAAAEKTKQGVAEAAGKTKEGVLYVGSKTKEGVVHGVATVAEKTKEQVTNVGGAVVTGVTAVAQKTVEGAGSIAAATGFVKKDQLGKNEEGAPQEGILEDMPVDPDNEAYEMPSEEGYQDYEPEA\"\n",
    "# Default cutoff, Lmin, and hydrophobicity scale\n",
    "cutoff = 0.4\n",
    "min_blob = 4\n",
    "hscale = \"kyte_doolittle\"\n"
   ]
  },
  {
   "cell_type": "markdown",
   "id": "73fba45b-b40c-4ba0-a7f2-e006c5200685",
   "metadata": {},
   "source": [
    "# Scan hydropathy cutoff values"
   ]
  },
  {
   "cell_type": "code",
   "execution_count": null,
   "id": "e9671ab9-550a-47fd-931c-d6314ead962d",
   "metadata": {},
   "outputs": [],
   "source": [
    "hydropathygram, Hvals = doHgram(asynuclein, Lmin=1)\n",
    "Hentropies = getEntropies(hydropathygram)"
   ]
  },
  {
   "cell_type": "code",
   "execution_count": null,
   "id": "438fceec-4578-4e7a-afcb-dfe5f7c45d37",
   "metadata": {},
   "outputs": [],
   "source": [
    "%matplotlib widget\n",
    "plt.figure()\n",
    "im = plt.imshow(hydropathygram, cmap=newcmap, interpolation=None, extent=(1,len(sequence), 0,1), origin='lower', aspect=100)\n",
    "\n",
    "plt.xlabel(\"Residue\")\n",
    "plt.xlim((1,len(sequence)))\n",
    "plt.ylabel(\"Hydropathy Cutoff\")\n",
    "\n",
    "blbs = ['Polar', 'Short', 'Hydrophobic']\n",
    "patches = [ mpatches.Patch(color=clr, label=blb ) for clr, blb in zip(colors,blbs) ]\n",
    "plt.legend(handles=patches, bbox_to_anchor=(1.05, 1), loc=2, borderaxespad=0. )\n",
    "\n",
    "plt.tight_layout()\n",
    "plt.show()\n",
    "plt.savefig(\"Vary_Hydropathy_cutoff.pdf\")"
   ]
  },
  {
   "cell_type": "code",
   "execution_count": null,
   "id": "e22ef27f-23c0-4c5c-b0aa-06012db871f4",
   "metadata": {
    "jupyter": {
     "source_hidden": true
    }
   },
   "outputs": [],
   "source": [
    "%matplotlib widget\n",
    "fig, ax = plt.subplots()\n",
    "plt.plot(Hvals, Hentropies)\n",
    "\n",
    "Hmax = Hvals[np.argmax(Hentropies)]\n",
    "ax.axvline(Hmax, linestyle=\"--\", color=\"gray\", label=np.round(Hmax,2))\n",
    "\n",
    "plt.legend()\n",
    "plt.tight_layout()\n",
    "plt.show()\n",
    "plt.savefig(\"Vary_Hydropathy_entropies.pdf\")"
   ]
  },
  {
   "cell_type": "markdown",
   "id": "882e4899-9920-4da4-beda-ae7eb48e887b",
   "metadata": {},
   "source": [
    "# Scan Lmin values"
   ]
  },
  {
   "cell_type": "code",
   "execution_count": null,
   "id": "34e4ab4d-6aad-4e16-86aa-96b27164cd99",
   "metadata": {},
   "outputs": [],
   "source": [
    "lmingram, Lvals = doLmingram(asynuclein, H=0.36)\n",
    "Lentropies = getEntropies(lmingram)"
   ]
  },
  {
   "cell_type": "code",
   "execution_count": null,
   "id": "0c6d1cb4-e03c-42c0-bd1b-d8feb721d6a9",
   "metadata": {},
   "outputs": [],
   "source": [
    "%matplotlib widget\n",
    "im = plt.imshow(lmingram, cmap=newcmap, interpolation=None, origin='lower', aspect=1, extent=(1,len(sequence), 1, len(lmingram)))\n",
    "\n",
    "plt.xlabel(\"Residue\")\n",
    "plt.ylabel(r\"$L_\\mathrm{min}$\")\n",
    "plt.xlim((1,len(sequence)))\n",
    "blbs = ['Polar', 'Short', 'Hydrophobic']\n",
    "patches = [ mpatches.Patch(color=clr, label=blb ) for clr, blb in zip(colors,blbs) ]\n",
    "plt.legend(handles=patches, bbox_to_anchor=(1.05, 1), loc=2, borderaxespad=0. )\n",
    "plt.tight_layout()\n",
    "\n",
    "plt.savefig(\"Vary_Lmin.pdf\")\n",
    "plt.show()"
   ]
  },
  {
   "cell_type": "code",
   "execution_count": null,
   "id": "229e1adf-0bbe-4bc4-9d13-edc1aeff436b",
   "metadata": {},
   "outputs": [],
   "source": [
    "%matplotlib widget\n",
    "fig, ax = plt.subplots()\n",
    "plt.plot(Lvals, Lentropies)\n",
    "\n",
    "Lmax = Lvals[np.argmax(Lentropies)]\n",
    "ax.axvline(Lmax, linestyle=\"--\", color=\"gray\", label=np.round(Lmax,2))\n",
    "\n",
    "plt.legend()\n",
    "plt.tight_layout()\n",
    "plt.show()\n",
    "plt.savefig(\"Vary_Hydropathy_entropies.pdf\")"
   ]
  },
  {
   "cell_type": "markdown",
   "id": "cc216dc1-2821-43ef-aeb9-546540da7397",
   "metadata": {},
   "source": [
    "# Simultaneously"
   ]
  },
  {
   "cell_type": "code",
   "execution_count": null,
   "id": "282f1d56-83ee-446b-b81e-ee9a88b8bb02",
   "metadata": {},
   "outputs": [],
   "source": [
    "from tqdm import tqdm\n",
    "Hvals = np.linspace(0,1,100)\n",
    "\n",
    "data = []\n",
    "for H in tqdm(Hvals):\n",
    "    lgram, Lvals = doLmingram(sequence, H=H)\n",
    "    Es = getEntropies(lgram)\n",
    "    data.extend(list(zip(Lvals, np.repeat(H, len(Es)), Es)))\n"
   ]
  },
  {
   "cell_type": "code",
   "execution_count": null,
   "id": "c41cebf3-33e8-4e4f-80bb-0923d7547f60",
   "metadata": {},
   "outputs": [],
   "source": [
    "\n",
    "rounded = np.round(data, 2)\n",
    "df = pd.DataFrame(rounded, columns = ['Lmin', 'H', 'Entropy'])\n",
    "pivotted= df.pivot('Lmin','H','Entropy')\n",
    "\n",
    "%matplotlib widget\n",
    "ax = sns.heatmap(pivotted)\n",
    "ax.invert_yaxis()\n",
    "plt.tight_layout()\n",
    "\n",
    "\n",
    "plt.savefig(\"Shannon_Entropy.pdf\")\n",
    "plt.show()"
   ]
  },
  {
   "cell_type": "code",
   "execution_count": null,
   "id": "ab1257bb-c931-4959-b3e9-35a253164b1a",
   "metadata": {},
   "outputs": [],
   "source": []
  }
 ],
 "metadata": {
  "kernelspec": {
   "display_name": "Python 3 (ipykernel)",
   "language": "python",
   "name": "python3"
  },
  "language_info": {
   "codemirror_mode": {
    "name": "ipython",
    "version": 3
   },
   "file_extension": ".py",
   "mimetype": "text/x-python",
   "name": "python",
   "nbconvert_exporter": "python",
   "pygments_lexer": "ipython3",
   "version": "3.10.8"
  }
 },
 "nbformat": 4,
 "nbformat_minor": 5
}
